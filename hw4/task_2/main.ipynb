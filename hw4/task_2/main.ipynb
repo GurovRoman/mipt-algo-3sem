{
 "cells": [
  {
   "cell_type": "code",
   "execution_count": null,
   "metadata": {},
   "outputs": [],
   "source": [
    "import math\n",
    "\n",
    "def w(k, n):\n",
    "    return math.cos(2 * math.pi * k / n) + 1j * math.sin(2 * math.pi * k / n)\n",
    "\n",
    "def fft(coefs):\n",
    "    if len(coefs) <= 1:\n",
    "        return coefs\n",
    "    \n",
    "    n = len(coefs)\n",
    "\n",
    "    a = fft(coefs[::2])\n",
    "    b = fft(coefs[1::2])\n",
    "\n",
    "    y1 = [a[k] + w(k, n) * b[k] for k in range(n // 2)]\n",
    "    y2 = [a[k] - w(k, n) * b[k] for k in range(n // 2)]\n",
    "    y1.extend(y2)\n",
    "    return y1\n",
    "\n",
    "def fft_reverse(a):\n",
    "    a = fft(a)\n",
    "    result = [(i / len(a)).real for i in a]\n",
    "    result[1:] = result[:0:-1]\n",
    "    \n",
    "    return result"
   ]
  },
  {
   "cell_type": "code",
   "execution_count": null,
   "metadata": {},
   "outputs": [],
   "source": [
    "%matplotlib inline\n",
    "import matplotlib.pyplot as plt\n",
    "\n",
    "def plot_fft(func, d):\n",
    "    x = [i / 10 for i in range(100)]\n",
    "    y = [func(x / 12.8) for x in range(128)]\n",
    "    \n",
    "    g = fft(y)\n",
    "    g_rev = fft_reverse(g[:128 - d] + [0] * d)\n",
    "    \n",
    "    plt.grid()\n",
    "    plt.plot(x, y[:100], \"\")\n",
    "    plt.plot(x, g_rev[:100], \"\")\n",
    "    \n",
    "    plt.show()"
   ]
  },
  {
   "cell_type": "markdown",
   "metadata": {},
   "source": [
    "$f(x) = x$"
   ]
  },
  {
   "cell_type": "code",
   "execution_count": null,
   "metadata": {
    "scrolled": true
   },
   "outputs": [],
   "source": [
    "plot_fft(lambda x: x, 1)"
   ]
  },
  {
   "cell_type": "markdown",
   "metadata": {},
   "source": [
    "$f(x) = x^2$"
   ]
  },
  {
   "cell_type": "code",
   "execution_count": null,
   "metadata": {
    "scrolled": true
   },
   "outputs": [],
   "source": [
    "plot_fft(lambda x: x**2, 1)"
   ]
  },
  {
   "cell_type": "markdown",
   "metadata": {},
   "source": [
    "$f(x) = sin(x)$"
   ]
  },
  {
   "cell_type": "code",
   "execution_count": null,
   "metadata": {},
   "outputs": [],
   "source": [
    "plot_fft(lambda x: math.sin(x), 1)"
   ]
  },
  {
   "cell_type": "markdown",
   "metadata": {},
   "source": [
    "$f(x) = sin(x^2)$"
   ]
  },
  {
   "cell_type": "code",
   "execution_count": null,
   "metadata": {
    "scrolled": true
   },
   "outputs": [],
   "source": [
    "plot_fft(lambda x: math.sin(x ** 2), 2)"
   ]
  },
  {
   "cell_type": "code",
   "execution_count": null,
   "metadata": {},
   "outputs": [],
   "source": [
    "plot_fft(lambda x: math.sin(x ** 2), 22)"
   ]
  },
  {
   "cell_type": "markdown",
   "metadata": {},
   "source": [
    "$f(x) = \\frac{sin(x)}{x}$"
   ]
  },
  {
   "cell_type": "code",
   "execution_count": null,
   "metadata": {
    "scrolled": false
   },
   "outputs": [],
   "source": [
    "plot_fft(lambda x: math.sin(x) / (x + 1e-2), 1)"
   ]
  },
  {
   "cell_type": "markdown",
   "metadata": {},
   "source": [
    "Умножение Фурье:"
   ]
  },
  {
   "cell_type": "code",
   "execution_count": null,
   "metadata": {},
   "outputs": [],
   "source": [
    "def fourier_multiply(a, b, base=10):\n",
    "    n = 2**(max(len(a), len(b)) * 2 - 1).bit_length()\n",
    "    \n",
    "    a = a + [0] * (n - len(a))\n",
    "    b = b + [0] * (n - len(b))\n",
    "    \n",
    "    a = fft(a)\n",
    "    b = fft(b)\n",
    "\n",
    "    mult = [i * j for (i, j) in zip(a, b)]\n",
    "\n",
    "    mult = fft_reverse(mult)\n",
    "    \n",
    "    mult = [int(i) for i in mult]\n",
    "\n",
    "    for i in range(len(mult) - 1):\n",
    "        mult[i + 1] += mult[i] // base\n",
    "        mult[i] %= base\n",
    "\n",
    "    for i in reversed(mult):\n",
    "        if i == 0:\n",
    "            mult.pop()\n",
    "        else:\n",
    "            break\n",
    "    \n",
    "    return mult"
   ]
  },
  {
   "cell_type": "code",
   "execution_count": null,
   "metadata": {},
   "outputs": [],
   "source": [
    "fourier_multiply([1, 0, 3], [3, 0, 1])"
   ]
  }
 ],
 "metadata": {
  "kernelspec": {
   "display_name": "Python 3",
   "language": "python",
   "name": "python3"
  },
  "language_info": {
   "codemirror_mode": {
    "name": "ipython",
    "version": 3
   },
   "file_extension": ".py",
   "mimetype": "text/x-python",
   "name": "python",
   "nbconvert_exporter": "python",
   "pygments_lexer": "ipython3",
   "version": "3.6.4"
  }
 },
 "nbformat": 4,
 "nbformat_minor": 1
}
